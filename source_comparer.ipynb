{
 "cells": [
  {
   "cell_type": "code",
   "execution_count": null,
   "id": "prepared-legislation",
   "metadata": {},
   "outputs": [],
   "source": [
    "# Import libraries\n",
    "from PyPDF2 import PdfFileReader, PdfFileWriter\n",
    "from urllib.request import urlretrieve\n",
    "from bs4 import BeautifulSoup\n",
    "import slate3k as slate\n",
    "import pandas as pd\n",
    "import requests"
   ]
  },
  {
   "cell_type": "code",
   "execution_count": null,
   "id": "placed-colombia",
   "metadata": {},
   "outputs": [],
   "source": [
    "#This code takes any NEBR working paper and converts it to a text file \n",
    "base_url = \"https://www2.nber.org/papers/w\"\n",
    "\n",
    "def collect_papers(lower_paper_range, upper_paper_rage):\n",
    "    def convert_file(number):\n",
    "        file_path = 'papers/working_paper'+ str(number) +'.pdf'\n",
    "        with open(file_path,'rb') as f:\n",
    "            extracted_text = slate.PDF(f)\n",
    "        return extracted_text\n",
    "    \n",
    "    def write_file(body, number):\n",
    "        with open(\"convertedPapers/workingpaper\"+str(number)+\".txt\", \"w\") as text_file:\n",
    "            text_file.write(body)\n",
    "    \n",
    "    def download_file(download_url, number):\n",
    "        urlretrieve(download_url, '/Users/rajatdoshi/Desktop/feinstein/papers/working_paper'+ str(number) +'.pdf')\n",
    "\n",
    "    for number in range(lower_paper_range, upper_paper_rage):\n",
    "        url = base_url + str(number)\n",
    "        page = requests.get(url)\n",
    "        soup = BeautifulSoup(page.content, 'html.parser')\n",
    "        all_paragraphs = soup.find_all('p')\n",
    "        for paragraph in all_paragraphs:\n",
    "            if paragraph.get_text() and paragraph.get_text()[0:9] == 'Published':\n",
    "                print(paragraph.get_text())\n",
    "                if number < 1000:\n",
    "                    pdf_url = base_url + \"0\" + str(number) + \".pdf\"\n",
    "                else:\n",
    "                    pdf_url = base_url + str(number) + \".pdf\"\n",
    "                pdf_page = requests.get(pdf_url)\n",
    "\n",
    "                if pdf_page.status_code == 200: \n",
    "                    download_file(pdf_url, number)\n",
    "                    extracted_text = convert_file(number)\n",
    "                    write_file(str(extracted_text), number)\n",
    "\n",
    "paper = 19954\n",
    "collect_papers(paper, paper+1)"
   ]
  },
  {
   "cell_type": "code",
   "execution_count": null,
   "id": "continuing-victory",
   "metadata": {},
   "outputs": [],
   "source": [
    "#This file takes the text and then searches for references\n"
   ]
  }
 ],
 "metadata": {
  "kernelspec": {
   "display_name": "Python 3",
   "language": "python",
   "name": "python3"
  },
  "language_info": {
   "codemirror_mode": {
    "name": "ipython",
    "version": 3
   },
   "file_extension": ".py",
   "mimetype": "text/x-python",
   "name": "python",
   "nbconvert_exporter": "python",
   "pygments_lexer": "ipython3",
   "version": "3.8.0"
  }
 },
 "nbformat": 4,
 "nbformat_minor": 5
}
